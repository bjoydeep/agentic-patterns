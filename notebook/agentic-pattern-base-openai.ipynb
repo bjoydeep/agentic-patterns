{
 "cells": [
  {
   "cell_type": "markdown",
   "id": "e8987006-614e-41b7-9c2f-aa6359e8e231",
   "metadata": {},
   "source": [
    "# Talk to your App\n",
    "\n",
    "In majority of the examples, LLM Usage is shown as a chat-bot or personal assistant. \n",
    "\n",
    "A more powerful usage of Agentic-AI are when they interact with the system in the background and enrich it or take autonomous actions. This is conceptually similar to streaming analytics - with analytics being processed by Agents powered by LLMs.\n"
   ]
  },
  {
   "cell_type": "code",
   "execution_count": 2,
   "id": "a049faf1-8a5c-4b36-a85c-7f7627635c4e",
   "metadata": {},
   "outputs": [
    {
     "data": {
      "text/html": [
       "<pre style=\"white-space:pre;overflow-x:auto;line-height:normal;font-family:Menlo,'DejaVu Sans Mono',consolas,'Courier New',monospace\"><span style=\"color: #008000; text-decoration-color: #008000\"> Model setup</span>\n",
       "</pre>\n"
      ],
      "text/plain": [
       "\u001b[32m Model setup\u001b[0m\n"
      ]
     },
     "metadata": {},
     "output_type": "display_data"
    },
    {
     "name": "stderr",
     "output_type": "stream",
     "text": [
      "[non-fatal] Tracing client error 401: {\n",
      "  \"error\": {\n",
      "    \"message\": \"Incorrect API key provided: sk-dummy_key. You can find your API key at https://platform.openai.com/account/api-keys.\",\n",
      "    \"type\": \"invalid_request_error\",\n",
      "    \"param\": null,\n",
      "    \"code\": \"invalid_api_key\"\n",
      "  }\n",
      "}\n",
      "[non-fatal] Tracing client error 401: {\n",
      "  \"error\": {\n",
      "    \"message\": \"Incorrect API key provided: sk-dummy_key. You can find your API key at https://platform.openai.com/account/api-keys.\",\n",
      "    \"type\": \"invalid_request_error\",\n",
      "    \"param\": null,\n",
      "    \"code\": \"invalid_api_key\"\n",
      "  }\n",
      "}\n",
      "[non-fatal] Tracing client error 401: {\n",
      "  \"error\": {\n",
      "    \"message\": \"Incorrect API key provided: sk-dummy_key. You can find your API key at https://platform.openai.com/account/api-keys.\",\n",
      "    \"type\": \"invalid_request_error\",\n",
      "    \"param\": null,\n",
      "    \"code\": \"invalid_api_key\"\n",
      "  }\n",
      "}\n",
      "[non-fatal] Tracing client error 401: {\n",
      "  \"error\": {\n",
      "    \"message\": \"Incorrect API key provided: sk-dummy_key. You can find your API key at https://platform.openai.com/account/api-keys.\",\n",
      "    \"type\": \"invalid_request_error\",\n",
      "    \"param\": null,\n",
      "    \"code\": \"invalid_api_key\"\n",
      "  }\n",
      "}\n",
      "[non-fatal] Tracing client error 401: {\n",
      "  \"error\": {\n",
      "    \"message\": \"Incorrect API key provided: sk-dummy_key. You can find your API key at https://platform.openai.com/account/api-keys.\",\n",
      "    \"type\": \"invalid_request_error\",\n",
      "    \"param\": null,\n",
      "    \"code\": \"invalid_api_key\"\n",
      "  }\n",
      "}\n",
      "[non-fatal] Tracing client error 401: {\n",
      "  \"error\": {\n",
      "    \"message\": \"Incorrect API key provided: sk-dummy_key. You can find your API key at https://platform.openai.com/account/api-keys.\",\n",
      "    \"type\": \"invalid_request_error\",\n",
      "    \"param\": null,\n",
      "    \"code\": \"invalid_api_key\"\n",
      "  }\n",
      "}\n",
      "[non-fatal] Tracing client error 401: {\n",
      "  \"error\": {\n",
      "    \"message\": \"Incorrect API key provided: sk-dummy_key. You can find your API key at https://platform.openai.com/account/api-keys.\",\n",
      "    \"type\": \"invalid_request_error\",\n",
      "    \"param\": null,\n",
      "    \"code\": \"invalid_api_key\"\n",
      "  }\n",
      "}\n"
     ]
    }
   ],
   "source": [
    "import openai\n",
    "import re\n",
    "import httpx\n",
    "import os\n",
    "import rich\n",
    "import json\n",
    "from openai import OpenAI\n",
    "from agents import Agent, ModelSettings, function_tool,Runner,AsyncOpenAI,OpenAIChatCompletionsModel\n",
    "from dotenv import load_dotenv, find_dotenv\n",
    "from rich.pretty import pprint\n",
    "from rich import print\n",
    "\n",
    "api_key = \"sk-dummy_key\"\n",
    "os.environ[\"OPENAI_API_KEY\"] = api_key\n",
    "\n",
    "model = \"llama3.2:3b-instruct-fp16\" \n",
    "#model = \"granite3.2:8b\" \n",
    "base_url = \"http://localhost:11434/v1/\"\n",
    "\n",
    "model = OpenAIChatCompletionsModel( \n",
    "    model=model,\n",
    "    openai_client=AsyncOpenAI(base_url=\"http://localhost:11434/v1\",api_key=api_key),\n",
    ")\n",
    "\n",
    "print(\"[green] Model setup[/green]\")"
   ]
  },
  {
   "cell_type": "markdown",
   "id": "39fc062f-d913-4042-b4a3-2f0d6d075d55",
   "metadata": {},
   "source": [
    "## Agents participating in a Trouble shooting Workflow\n",
    "\n",
    "The investigation into five specialized “agents” that work together like a miniature on-call team.\n",
    "1. First, the Dependency Identifier agent figures out which backend services power the shopping cart.\n",
    "1. Next, the Change Tracker agent looks at those services to see what code or configuration changes went out recently.\n",
    "1. Then the Error Finder agent scans their logs to pull out any real-time error messages.\n",
    "1. The Debugger agent takes those three fact-sets—dependencies, changes, and errors—and reasons through them step by step to deliver a clear, human-friendly diagnosis of the most likely root cause.\n",
    "1. Verification Agent whose sole job is to audit each diagnosis before a human being will act on it\n"
   ]
  },
  {
   "cell_type": "code",
   "execution_count": 3,
   "id": "780c5079-3470-4334-a74c-ec332bc4c35a",
   "metadata": {},
   "outputs": [
    {
     "data": {
      "text/html": [
       "<pre style=\"white-space:pre;overflow-x:auto;line-height:normal;font-family:Menlo,'DejaVu Sans Mono',consolas,'Courier New',monospace\"><span style=\"color: #008000; text-decoration-color: #008000\"> Agents setup</span>\n",
       "</pre>\n"
      ],
      "text/plain": [
       "\u001b[32m Agents setup\u001b[0m\n"
      ]
     },
     "metadata": {},
     "output_type": "display_data"
    }
   ],
   "source": [
    "@function_tool\n",
    "def get_dependency(service:str) ->list[str]:\n",
    "    dep_service=[\"ProductCatalogService\",\"CheckoutService\",\"UserProfileService\"] \n",
    "    return dep_service\n",
    "\n",
    "did_agent = Agent(\n",
    "    name=\"DependencyIdentifier Agent\",\n",
    "    instructions=(\n",
    "        \"An incident will be passed on.\\n\"\n",
    "        \"From that, firstly identify the affected service name only.\\n\"\n",
    "        \"Next, identify what are the service dependencies for that service.\\n\"\n",
    "        \"Just return all service names in a comma separated format like a python list[str]. Also include the affected service.\\n\"\n",
    "        \"And nothing else\"\n",
    "    ),\n",
    "    model=model,\n",
    "    tools=[get_dependency],\n",
    "    model_settings=ModelSettings(temperature=0.0),\n",
    ")\n",
    "\n",
    "@function_tool\n",
    "def get_changelog(service:list) ->list[str]:\n",
    "    change_log=[\"ProductCatalogService changed\",\"CheckoutService changed\"]\n",
    "    return change_log\n",
    "\n",
    "change_agent = Agent(\n",
    "    name=\"ChangeLog Agent\",\n",
    "    instructions=(\n",
    "        \"An array of service names will be passed on - like ['ProductCatalogService','CheckoutService','..'].\\n\"\n",
    "        \"Identify what has changed with these services and return them.\\n\"\n",
    "        \"Use available tools for this and do not generate data on our own.\\n\"\n",
    "        \"Just return all changes in a comma separated format like a python list[str].\\n\"\n",
    "        \"Do not return duplicate changes\"\n",
    "    ),\n",
    "    model= model,\n",
    "    tools=[get_changelog],\n",
    "    model_settings=ModelSettings(temperature=0.0),\n",
    ")\n",
    "\n",
    "@function_tool\n",
    "def get_errorlog(service:list) ->list[str]:\n",
    "    error_log=[\"ProductCatalogService is responding slowly\"]\n",
    "    return error_log\n",
    "\n",
    "error_agent = Agent(\n",
    "    name=\"Error Log Agent\",\n",
    "    instructions=(\n",
    "        \"An array of service names will be passed on - like ['ProductCatalogService','CheckoutService','..']. \\n\"\n",
    "        \"Note that all services may not have error messages and it is unlikely that same message appear in logs of all services. \\n\"\n",
    "        \"Use available tools for this and do not generate data on our own.\\n\"\n",
    "        \"The error messages will have service names in the messages. \\n\"\n",
    "        \"Identify which services have what kind of errors\"\n",
    "    ),\n",
    "    model=model,\n",
    "    tools=[get_errorlog],\n",
    "    model_settings=ModelSettings(temperature=0.0),\n",
    ")\n",
    "\n",
    "debugger_agent = Agent(\n",
    "    name=\"Debugger Agent\",\n",
    "    instructions=(\n",
    "        \"You will be given:\\n\"\n",
    "        \"1. Incident details.\\n\"\n",
    "        \"2. Services that could have been root cause of the problem.\\n\"\n",
    "        \"3. Services that were changed in the time interval.\\n\"\n",
    "        \"4. Services that had errors in the logs.\\n\"\n",
    "        \"Based on the above, loigically think through and conclude the most likely reason for this problem. \\n\"\n",
    "        \"Please lay down your thought process clearly that led you to the conclusion. \"\n",
    "    ),\n",
    "    model= model,\n",
    "    model_settings=ModelSettings(temperature=0.0),\n",
    ")\n",
    "print(\"[green] Agents setup[/green]\")"
   ]
  },
  {
   "cell_type": "markdown",
   "id": "39afeaab-4a33-4a8a-8eb7-3f7e8caef050",
   "metadata": {},
   "source": [
    "### Now let us add a new agent\n",
    "We add a Verification Agent whose sole job is to audit each diagnosis before you act on it. In practice this agent will:\n",
    "\n",
    "- Read the incident summary, the list of services, and the debugger’s reasoning\n",
    "- Check for mismatches or missing facts (e.g., a service name dropped or an error overlooked)\n",
    "- Flag any inconsistencies or confirm “All clear”\n",
    "\n",
    "By doing so, we get an extra safety net that catches accidental oversights or AI hallucinations. "
   ]
  },
  {
   "cell_type": "code",
   "execution_count": 4,
   "id": "7c5a17b3-def9-4052-8a3c-347504bf644a",
   "metadata": {},
   "outputs": [
    {
     "data": {
      "text/html": [
       "<pre style=\"white-space:pre;overflow-x:auto;line-height:normal;font-family:Menlo,'DejaVu Sans Mono',consolas,'Courier New',monospace\"><span style=\"color: #008000; text-decoration-color: #008000\"> Verification Agent setup</span>\n",
       "</pre>\n"
      ],
      "text/plain": [
       "\u001b[32m Verification Agent setup\u001b[0m\n"
      ]
     },
     "metadata": {},
     "output_type": "display_data"
    }
   ],
   "source": [
    "verification_agent = Agent(\n",
    "    name=\"Verification Agent\",\n",
    "    instructions=(\n",
    "        \"You’ll be given four parts:\\n\"\n",
    "        \"1) The incident description\\n\"\n",
    "        \"2) A list of services\\n\"\n",
    "        \"3) The debugger agent’s full reasoning and conclusion\\n\\n\"\n",
    "        \"Check for any of these issues:\\n\"\n",
    "        \" • References to services not in the original list\\n\"\n",
    "        \" • Conclusions that contradict the provided errors/changes\\n\"\n",
    "        \" • Missing any service that clearly had errors or changes\\n\\n\"\n",
    "        \"If everything is consistent, reply “Consistent”. Otherwise, list the problems.\"\n",
    "    ),\n",
    "    model=model,\n",
    "    model_settings=ModelSettings(temperature=0.0),\n",
    ")\n",
    "print(\"[green] Verification Agent setup[/green]\")"
   ]
  },
  {
   "cell_type": "markdown",
   "id": "fbb30817-5cd1-4dda-a44a-af1e9d87f397",
   "metadata": {},
   "source": [
    "### Orchestrating this workflow"
   ]
  },
  {
   "cell_type": "code",
   "execution_count": 5,
   "id": "ea7428cc-a2b1-47ef-80be-d07ff78512fc",
   "metadata": {},
   "outputs": [
    {
     "data": {
      "text/html": [
       "<pre style=\"white-space:pre;overflow-x:auto;line-height:normal;font-family:Menlo,'DejaVu Sans Mono',consolas,'Courier New',monospace\"><span style=\"color: #008000; text-decoration-color: #008000\"> Agent orchestration setup</span>\n",
       "</pre>\n"
      ],
      "text/plain": [
       "\u001b[32m Agent orchestration setup\u001b[0m\n"
      ]
     },
     "metadata": {},
     "output_type": "display_data"
    }
   ],
   "source": [
    "import asyncio\n",
    "async def orchestrate(input):\n",
    "    # Call the intermediate agents to gather the facts\n",
    "    # These all use tools heavily\n",
    "    dep_result = await Runner.run(did_agent,input)\n",
    "    change_result = await Runner.run(change_agent, dep_result.final_output)\n",
    "    error_result = await Runner.run(error_agent, dep_result.final_output)\n",
    "\n",
    "    services = dep_result.final_output               # e.g. [\"foo\",\"bar\",\"baz\"]\n",
    "    changes  = change_result.final_output             # e.g. [\"foo changed\",\"bar changed\"]\n",
    "    errors   = error_result.final_output              # e.g. [\"foo is responding slowly\"]\n",
    "\n",
    "    # Build a single prompt string:\n",
    "    message = (\n",
    "        \"Incident details: \" + input + \"\\n\"\n",
    "        \"Affected services: \" + services + \"\\n\"\n",
    "        \"Changes detected: \" + changes + \"\\n\"\n",
    "        \"Error logs: \" + errors + \"\\n\"\n",
    "        \"Based on the above, logically think through and conclude the most likely reason for this problem. \"\n",
    "        \"Please lay down your thought process clearly that led you to the conclusion.\"\n",
    "    )\n",
    "    print(\"\\n\")\n",
    "    print(\"Input to the Deubgger Agent: \")\n",
    "    print(\"-----------------------------\")\n",
    "    print(message)\n",
    "    print(\"\\n\")\n",
    "    # Invoke it:\n",
    "    debugger_result = await Runner.run(debugger_agent, message)\n",
    "    print(\"=== Debugger Thought Process & Conclusion ===\")\n",
    "    print(debugger_result.final_output)\n",
    "\n",
    "    # New Section:    \n",
    "    verification_prompt = (\n",
    "        \"Incident details: \" + input + \"\\n\"\n",
    "        \"Affected services: \" + services + \"\\n\"\n",
    "        f\"Debugger reasoning:\\n{debugger_result.final_output}\\n\\n\"\n",
    "        \"Please check:\\n\"\n",
    "        \" • Are all referenced services in the original list?\\n\"\n",
    "        \" • Does the conclusion contradict any errors/changes?\\n\"\n",
    "        \"If everything is consistent, just say “Consistent” and nothing else. \"\n",
    "        \"Otherwise list the issues you see.\"\n",
    "    )\n",
    "    \n",
    "    print(\"\\n\")\n",
    "    print(\"Input to the Verification Agent: \")\n",
    "    print(\"---------------------------------\")\n",
    "    print(verification_prompt)\n",
    "    print(\"\\n\")\n",
    "\n",
    "    verification_result = await Runner.run(verification_agent, verification_prompt)\n",
    "    #pprint(verification_result.final_output)\n",
    "    return verification_result.final_output\n",
    "\n",
    "print(\"[green] Agent orchestration setup[/green]\")"
   ]
  },
  {
   "cell_type": "markdown",
   "id": "16cf764e-5645-4ac5-a316-ea79f5afb6ed",
   "metadata": {},
   "source": [
    "### Calling the orchestration function"
   ]
  },
  {
   "cell_type": "code",
   "execution_count": 6,
   "id": "59d897a5-098f-4ea4-8757-1bbe66a364df",
   "metadata": {},
   "outputs": [
    {
     "data": {
      "text/html": [
       "<pre style=\"white-space:pre;overflow-x:auto;line-height:normal;font-family:Menlo,'DejaVu Sans Mono',consolas,'Courier New',monospace\">\n",
       "\n",
       "</pre>\n"
      ],
      "text/plain": [
       "\n",
       "\n"
      ]
     },
     "metadata": {},
     "output_type": "display_data"
    },
    {
     "data": {
      "text/html": [
       "<pre style=\"white-space:pre;overflow-x:auto;line-height:normal;font-family:Menlo,'DejaVu Sans Mono',consolas,'Courier New',monospace\">Input to the Deubgger Agent: \n",
       "</pre>\n"
      ],
      "text/plain": [
       "Input to the Deubgger Agent: \n"
      ]
     },
     "metadata": {},
     "output_type": "display_data"
    },
    {
     "data": {
      "text/html": [
       "<pre style=\"white-space:pre;overflow-x:auto;line-height:normal;font-family:Menlo,'DejaVu Sans Mono',consolas,'Courier New',monospace\">-----------------------------\n",
       "</pre>\n"
      ],
      "text/plain": [
       "-----------------------------\n"
      ]
     },
     "metadata": {},
     "output_type": "display_data"
    },
    {
     "data": {
      "text/html": [
       "<pre style=\"white-space:pre;overflow-x:auto;line-height:normal;font-family:Menlo,'DejaVu Sans Mono',consolas,'Courier New',monospace\">Incident details: Incident: ShoppingCart response time has increased to <span style=\"color: #008080; text-decoration-color: #008080; font-weight: bold\">10</span> sec\n",
       "Affected services: The affected service is ShoppingCart. The dependencies for this service are \n",
       "ProductCatalogService, CheckoutService, and UserProfileService.\n",
       "Changes detected: The changes to the ShoppingCart service include updates from ProductCatalogService and \n",
       "CheckoutService. These services have undergone changes, which are reflected in the ShoppingCart service.\n",
       "Error logs: It appears that the ProductCatalogService is experiencing slow response times. This could be causing \n",
       "issues with the ShoppingCart service, which relies on it.\n",
       "\n",
       "The CheckoutService and UserProfileService do not have any error messages in their logs at this time. \n",
       "\n",
       "Please note that you may want to investigate further into the cause of the slow response times on the \n",
       "ProductCatalogService to ensure it does not become a recurring issue.\n",
       "Based on the above, logically think through and conclude the most likely reason for this problem. Please lay down \n",
       "your thought process clearly that led you to the conclusion.\n",
       "</pre>\n"
      ],
      "text/plain": [
       "Incident details: Incident: ShoppingCart response time has increased to \u001b[1;36m10\u001b[0m sec\n",
       "Affected services: The affected service is ShoppingCart. The dependencies for this service are \n",
       "ProductCatalogService, CheckoutService, and UserProfileService.\n",
       "Changes detected: The changes to the ShoppingCart service include updates from ProductCatalogService and \n",
       "CheckoutService. These services have undergone changes, which are reflected in the ShoppingCart service.\n",
       "Error logs: It appears that the ProductCatalogService is experiencing slow response times. This could be causing \n",
       "issues with the ShoppingCart service, which relies on it.\n",
       "\n",
       "The CheckoutService and UserProfileService do not have any error messages in their logs at this time. \n",
       "\n",
       "Please note that you may want to investigate further into the cause of the slow response times on the \n",
       "ProductCatalogService to ensure it does not become a recurring issue.\n",
       "Based on the above, logically think through and conclude the most likely reason for this problem. Please lay down \n",
       "your thought process clearly that led you to the conclusion.\n"
      ]
     },
     "metadata": {},
     "output_type": "display_data"
    },
    {
     "data": {
      "text/html": [
       "<pre style=\"white-space:pre;overflow-x:auto;line-height:normal;font-family:Menlo,'DejaVu Sans Mono',consolas,'Courier New',monospace\">\n",
       "\n",
       "</pre>\n"
      ],
      "text/plain": [
       "\n",
       "\n"
      ]
     },
     "metadata": {},
     "output_type": "display_data"
    },
    {
     "data": {
      "text/html": [
       "<pre style=\"white-space:pre;overflow-x:auto;line-height:normal;font-family:Menlo,'DejaVu Sans Mono',consolas,'Courier New',monospace\">=== Debugger Thought Process &amp; Conclusion ===\n",
       "</pre>\n"
      ],
      "text/plain": [
       "=== Debugger Thought Process & Conclusion ===\n"
      ]
     },
     "metadata": {},
     "output_type": "display_data"
    },
    {
     "data": {
      "text/html": [
       "<pre style=\"white-space:pre;overflow-x:auto;line-height:normal;font-family:Menlo,'DejaVu Sans Mono',consolas,'Courier New',monospace\">Here's my thought process:\n",
       "\n",
       "**Step <span style=\"color: #008080; text-decoration-color: #008080; font-weight: bold\">1</span>: Identify the affected service**\n",
       "The incident is affecting the ShoppingCart service, which has increased response times to <span style=\"color: #008080; text-decoration-color: #008080; font-weight: bold\">10</span> seconds.\n",
       "\n",
       "**Step <span style=\"color: #008080; text-decoration-color: #008080; font-weight: bold\">2</span>: Analyze dependencies**\n",
       "The ShoppingCart service depends on three other services: ProductCatalogService, CheckoutService, and \n",
       "UserProfileService. This means that any issues with these dependent services could be contributing to the problem.\n",
       "\n",
       "**Step <span style=\"color: #008080; text-decoration-color: #008080; font-weight: bold\">3</span>: Investigate changes detected**\n",
       "Changes were detected in the ShoppingCart service, specifically updates from ProductCatalogService and \n",
       "CheckoutService. These changes are likely related to the incident.\n",
       "\n",
       "**Step <span style=\"color: #008080; text-decoration-color: #008080; font-weight: bold\">4</span>: Examine error logs**\n",
       "Error logs indicate slow response times for the ProductCatalogService, which is one of the dependent services of \n",
       "ShoppingCart.\n",
       "\n",
       "**Step <span style=\"color: #008080; text-decoration-color: #008080; font-weight: bold\">5</span>: Eliminate unlikely causes**\n",
       "The CheckoutService and UserProfileService do not have any error messages in their logs, making it less likely that\n",
       "they are causing the issue. However, this does not rule out the possibility that these services could still be \n",
       "contributing to the problem indirectly.\n",
       "\n",
       "**Step <span style=\"color: #008080; text-decoration-color: #008080; font-weight: bold\">6</span>: Draw conclusions**\n",
       "Based on the analysis, I conclude that the most likely reason for the increased response time of the ShoppingCart \n",
       "service is related to issues with its dependent services, specifically ProductCatalogService. The slow response \n",
       "times in ProductCatalogService's logs suggest a possible cause for the problem.\n",
       "\n",
       "**Conclusion**: The most likely root cause of the incident is an issue with the ProductCatalogService, which is \n",
       "causing slow response times and indirectly affecting the ShoppingCart service due to their dependency relationship.\n",
       "\n",
       "**Recommendation**: Further investigation should be conducted into the cause of the slow response times on the \n",
       "ProductCatalogService to ensure it does not become a recurring issue.\n",
       "</pre>\n"
      ],
      "text/plain": [
       "Here's my thought process:\n",
       "\n",
       "**Step \u001b[1;36m1\u001b[0m: Identify the affected service**\n",
       "The incident is affecting the ShoppingCart service, which has increased response times to \u001b[1;36m10\u001b[0m seconds.\n",
       "\n",
       "**Step \u001b[1;36m2\u001b[0m: Analyze dependencies**\n",
       "The ShoppingCart service depends on three other services: ProductCatalogService, CheckoutService, and \n",
       "UserProfileService. This means that any issues with these dependent services could be contributing to the problem.\n",
       "\n",
       "**Step \u001b[1;36m3\u001b[0m: Investigate changes detected**\n",
       "Changes were detected in the ShoppingCart service, specifically updates from ProductCatalogService and \n",
       "CheckoutService. These changes are likely related to the incident.\n",
       "\n",
       "**Step \u001b[1;36m4\u001b[0m: Examine error logs**\n",
       "Error logs indicate slow response times for the ProductCatalogService, which is one of the dependent services of \n",
       "ShoppingCart.\n",
       "\n",
       "**Step \u001b[1;36m5\u001b[0m: Eliminate unlikely causes**\n",
       "The CheckoutService and UserProfileService do not have any error messages in their logs, making it less likely that\n",
       "they are causing the issue. However, this does not rule out the possibility that these services could still be \n",
       "contributing to the problem indirectly.\n",
       "\n",
       "**Step \u001b[1;36m6\u001b[0m: Draw conclusions**\n",
       "Based on the analysis, I conclude that the most likely reason for the increased response time of the ShoppingCart \n",
       "service is related to issues with its dependent services, specifically ProductCatalogService. The slow response \n",
       "times in ProductCatalogService's logs suggest a possible cause for the problem.\n",
       "\n",
       "**Conclusion**: The most likely root cause of the incident is an issue with the ProductCatalogService, which is \n",
       "causing slow response times and indirectly affecting the ShoppingCart service due to their dependency relationship.\n",
       "\n",
       "**Recommendation**: Further investigation should be conducted into the cause of the slow response times on the \n",
       "ProductCatalogService to ensure it does not become a recurring issue.\n"
      ]
     },
     "metadata": {},
     "output_type": "display_data"
    },
    {
     "data": {
      "text/html": [
       "<pre style=\"white-space:pre;overflow-x:auto;line-height:normal;font-family:Menlo,'DejaVu Sans Mono',consolas,'Courier New',monospace\">\n",
       "\n",
       "</pre>\n"
      ],
      "text/plain": [
       "\n",
       "\n"
      ]
     },
     "metadata": {},
     "output_type": "display_data"
    },
    {
     "data": {
      "text/html": [
       "<pre style=\"white-space:pre;overflow-x:auto;line-height:normal;font-family:Menlo,'DejaVu Sans Mono',consolas,'Courier New',monospace\">Input to the Verification Agent: \n",
       "</pre>\n"
      ],
      "text/plain": [
       "Input to the Verification Agent: \n"
      ]
     },
     "metadata": {},
     "output_type": "display_data"
    },
    {
     "data": {
      "text/html": [
       "<pre style=\"white-space:pre;overflow-x:auto;line-height:normal;font-family:Menlo,'DejaVu Sans Mono',consolas,'Courier New',monospace\">---------------------------------\n",
       "</pre>\n"
      ],
      "text/plain": [
       "---------------------------------\n"
      ]
     },
     "metadata": {},
     "output_type": "display_data"
    },
    {
     "data": {
      "text/html": [
       "<pre style=\"white-space:pre;overflow-x:auto;line-height:normal;font-family:Menlo,'DejaVu Sans Mono',consolas,'Courier New',monospace\">Incident details: Incident: ShoppingCart response time has increased to <span style=\"color: #008080; text-decoration-color: #008080; font-weight: bold\">10</span> sec\n",
       "Affected services: The affected service is ShoppingCart. The dependencies for this service are \n",
       "ProductCatalogService, CheckoutService, and UserProfileService.\n",
       "Debugger reasoning:\n",
       "Here's my thought process:\n",
       "\n",
       "**Step <span style=\"color: #008080; text-decoration-color: #008080; font-weight: bold\">1</span>: Identify the affected service**\n",
       "The incident is affecting the ShoppingCart service, which has increased response times to <span style=\"color: #008080; text-decoration-color: #008080; font-weight: bold\">10</span> seconds.\n",
       "\n",
       "**Step <span style=\"color: #008080; text-decoration-color: #008080; font-weight: bold\">2</span>: Analyze dependencies**\n",
       "The ShoppingCart service depends on three other services: ProductCatalogService, CheckoutService, and \n",
       "UserProfileService. This means that any issues with these dependent services could be contributing to the problem.\n",
       "\n",
       "**Step <span style=\"color: #008080; text-decoration-color: #008080; font-weight: bold\">3</span>: Investigate changes detected**\n",
       "Changes were detected in the ShoppingCart service, specifically updates from ProductCatalogService and \n",
       "CheckoutService. These changes are likely related to the incident.\n",
       "\n",
       "**Step <span style=\"color: #008080; text-decoration-color: #008080; font-weight: bold\">4</span>: Examine error logs**\n",
       "Error logs indicate slow response times for the ProductCatalogService, which is one of the dependent services of \n",
       "ShoppingCart.\n",
       "\n",
       "**Step <span style=\"color: #008080; text-decoration-color: #008080; font-weight: bold\">5</span>: Eliminate unlikely causes**\n",
       "The CheckoutService and UserProfileService do not have any error messages in their logs, making it less likely that\n",
       "they are causing the issue. However, this does not rule out the possibility that these services could still be \n",
       "contributing to the problem indirectly.\n",
       "\n",
       "**Step <span style=\"color: #008080; text-decoration-color: #008080; font-weight: bold\">6</span>: Draw conclusions**\n",
       "Based on the analysis, I conclude that the most likely reason for the increased response time of the ShoppingCart \n",
       "service is related to issues with its dependent services, specifically ProductCatalogService. The slow response \n",
       "times in ProductCatalogService's logs suggest a possible cause for the problem.\n",
       "\n",
       "**Conclusion**: The most likely root cause of the incident is an issue with the ProductCatalogService, which is \n",
       "causing slow response times and indirectly affecting the ShoppingCart service due to their dependency relationship.\n",
       "\n",
       "**Recommendation**: Further investigation should be conducted into the cause of the slow response times on the \n",
       "ProductCatalogService to ensure it does not become a recurring issue.\n",
       "\n",
       "Please check:\n",
       " • Are all referenced services in the original list?\n",
       " • Does the conclusion contradict any errors/changes?\n",
       "If everything is consistent, just say “Consistent” and nothing else. Otherwise list the issues you see.\n",
       "</pre>\n"
      ],
      "text/plain": [
       "Incident details: Incident: ShoppingCart response time has increased to \u001b[1;36m10\u001b[0m sec\n",
       "Affected services: The affected service is ShoppingCart. The dependencies for this service are \n",
       "ProductCatalogService, CheckoutService, and UserProfileService.\n",
       "Debugger reasoning:\n",
       "Here's my thought process:\n",
       "\n",
       "**Step \u001b[1;36m1\u001b[0m: Identify the affected service**\n",
       "The incident is affecting the ShoppingCart service, which has increased response times to \u001b[1;36m10\u001b[0m seconds.\n",
       "\n",
       "**Step \u001b[1;36m2\u001b[0m: Analyze dependencies**\n",
       "The ShoppingCart service depends on three other services: ProductCatalogService, CheckoutService, and \n",
       "UserProfileService. This means that any issues with these dependent services could be contributing to the problem.\n",
       "\n",
       "**Step \u001b[1;36m3\u001b[0m: Investigate changes detected**\n",
       "Changes were detected in the ShoppingCart service, specifically updates from ProductCatalogService and \n",
       "CheckoutService. These changes are likely related to the incident.\n",
       "\n",
       "**Step \u001b[1;36m4\u001b[0m: Examine error logs**\n",
       "Error logs indicate slow response times for the ProductCatalogService, which is one of the dependent services of \n",
       "ShoppingCart.\n",
       "\n",
       "**Step \u001b[1;36m5\u001b[0m: Eliminate unlikely causes**\n",
       "The CheckoutService and UserProfileService do not have any error messages in their logs, making it less likely that\n",
       "they are causing the issue. However, this does not rule out the possibility that these services could still be \n",
       "contributing to the problem indirectly.\n",
       "\n",
       "**Step \u001b[1;36m6\u001b[0m: Draw conclusions**\n",
       "Based on the analysis, I conclude that the most likely reason for the increased response time of the ShoppingCart \n",
       "service is related to issues with its dependent services, specifically ProductCatalogService. The slow response \n",
       "times in ProductCatalogService's logs suggest a possible cause for the problem.\n",
       "\n",
       "**Conclusion**: The most likely root cause of the incident is an issue with the ProductCatalogService, which is \n",
       "causing slow response times and indirectly affecting the ShoppingCart service due to their dependency relationship.\n",
       "\n",
       "**Recommendation**: Further investigation should be conducted into the cause of the slow response times on the \n",
       "ProductCatalogService to ensure it does not become a recurring issue.\n",
       "\n",
       "Please check:\n",
       " • Are all referenced services in the original list?\n",
       " • Does the conclusion contradict any errors/changes?\n",
       "If everything is consistent, just say “Consistent” and nothing else. Otherwise list the issues you see.\n"
      ]
     },
     "metadata": {},
     "output_type": "display_data"
    },
    {
     "data": {
      "text/html": [
       "<pre style=\"white-space:pre;overflow-x:auto;line-height:normal;font-family:Menlo,'DejaVu Sans Mono',consolas,'Courier New',monospace\">\n",
       "\n",
       "</pre>\n"
      ],
      "text/plain": [
       "\n",
       "\n"
      ]
     },
     "metadata": {},
     "output_type": "display_data"
    },
    {
     "data": {
      "text/html": [
       "<pre style=\"white-space:pre;overflow-x:auto;line-height:normal;font-family:Menlo,'DejaVu Sans Mono',consolas,'Courier New',monospace\">=============================================\n",
       "</pre>\n"
      ],
      "text/plain": [
       "=============================================\n"
      ]
     },
     "metadata": {},
     "output_type": "display_data"
    },
    {
     "data": {
      "text/html": [
       "<pre style=\"white-space:pre;overflow-x:auto;line-height:normal;font-family:Menlo,'DejaVu Sans Mono',consolas,'Courier New',monospace\">=== Verifier Thought Process &amp; Conclusion ===\n",
       "</pre>\n"
      ],
      "text/plain": [
       "=== Verifier Thought Process & Conclusion ===\n"
      ]
     },
     "metadata": {},
     "output_type": "display_data"
    },
    {
     "data": {
      "text/html": [
       "<pre style=\"white-space:pre;overflow-x:auto;line-height:normal;font-family:Menlo,'DejaVu Sans Mono',consolas,'Courier New',monospace\">=============================================\n",
       "</pre>\n"
      ],
      "text/plain": [
       "=============================================\n"
      ]
     },
     "metadata": {},
     "output_type": "display_data"
    },
    {
     "data": {
      "text/html": [
       "<pre style=\"white-space:pre;overflow-x:auto;line-height:normal;font-family:Menlo,'DejaVu Sans Mono',consolas,'Courier New',monospace\">Consistent\n",
       "</pre>\n"
      ],
      "text/plain": [
       "Consistent\n"
      ]
     },
     "metadata": {},
     "output_type": "display_data"
    }
   ],
   "source": [
    "input = \"Incident: ShoppingCart response time has increased to 10 sec\"\n",
    "diagnosis = await orchestrate(input)\n",
    "print(\"=============================================\")\n",
    "print(\"=== Verifier Thought Process & Conclusion ===\")\n",
    "print(\"=============================================\")\n",
    "print(diagnosis)"
   ]
  },
  {
   "cell_type": "markdown",
   "id": "83663c41-0c58-4cce-b6c3-a40264facbf6",
   "metadata": {},
   "source": [
    "# Going into Production\n",
    "\n",
    "We have seen now how a so called output by AI can be cross checked. This is widely used pattern in Agentic workflows.\n",
    "\n",
    "One other important issue - how does the system Learn ?\n",
    "\n",
    "1. Let us say Agentic application gives a certain resolution to an incident.\n",
    "1. And the engineer verifies it to be correct.\n",
    "1. Or the engineer verifies it not be correct and knows the correct solution.\n",
    "\n",
    "How can we enhance our agentic application with this.\n",
    "\n",
    "## Learning\n",
    "### Integrate Human Feedback\n",
    "- Whenever the Verification Agent flags a problem, route the case to an engineer for review.\n",
    "- Provide a simple thumbs-up/thumbs-down or rating interface. Feed that rating back into your store.\n",
    "- Also think of allowing general text entry field allowing engineer to enter what was done, if it was a thumbs down\n",
    "\n",
    "### Capture and store outcomes\n",
    "- Capture the above data and store it in a database\n",
    "\n",
    "### Feedback the data\n",
    "- Provide this data as an additional context to the debugger agent (or perhaps add another agent) which looks at this data and fine tunes the recommendation.\n",
    "\n",
    "### Continuously refine your agents\n",
    "- Periodically pull the best-rated incident examples (and their human-approved diagnoses) to create few-shot prompts or even fine-tune a custom model.\n",
    "- Update agent instructions based on common failure modes (e.g. “always double-check inventory data”).\n",
    "\n",
    "Some of the other next steps could be -\n",
    "\n",
    "## Build visibility and dashboards\n",
    "- Surface the agents’ findings and verification results in a team dashboard—showing average time to diagnosis, verification pass rates, and automation success rates.\n",
    "- Use that data to spot gaps (e.g. Services that consistently fool the Debugger) and add new special-purpose agents.\n",
    "\n",
    "## Hook into real incident streams\n",
    "- Connect the orchestration function to the monitoring/alerting system (e.g. Prometheus Alertmanager, CloudWatch Alarms, PagerDuty webhooks). Therefore every time an alert fires for “shopping-cart latency,” the agents automatically kick off the dependency→change→error→debug→verify chain.\n",
    "\n",
    "## Future State\n",
    "- Let us imagine a state in future where there may be many agents that can gather data. In the above example it was confined to 3:\n",
    "  - discovering service dependency,\n",
    "  - looking at change log and\n",
    "  - looking at application logs.\n",
    "Let us say there are agents for metrics, anomaly detection, cluster health (for the cluster on which the service is running on etc).\n",
    "- In that case, the incident could go to a `Planner agent` that decides to breakdown the troubleshooting into steps and call agents for each steps.\n",
    "- And then hand over the summary to the Debugger Agent and Verifier agent as shown above."
   ]
  },
  {
   "cell_type": "code",
   "execution_count": null,
   "id": "0a08d242-e381-4802-83de-437f341c68a8",
   "metadata": {},
   "outputs": [],
   "source": []
  }
 ],
 "metadata": {
  "kernelspec": {
   "display_name": "Python 3 (ipykernel)",
   "language": "python",
   "name": "python3"
  },
  "language_info": {
   "codemirror_mode": {
    "name": "ipython",
    "version": 3
   },
   "file_extension": ".py",
   "mimetype": "text/x-python",
   "name": "python",
   "nbconvert_exporter": "python",
   "pygments_lexer": "ipython3",
   "version": "3.12.9"
  }
 },
 "nbformat": 4,
 "nbformat_minor": 5
}
